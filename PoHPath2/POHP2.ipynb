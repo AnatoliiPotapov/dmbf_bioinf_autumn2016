{
 "cells": [
  {
   "cell_type": "code",
   "execution_count": 35,
   "metadata": {
    "collapsed": true
   },
   "outputs": [],
   "source": [
    "import numpy as np"
   ]
  },
  {
   "cell_type": "code",
   "execution_count": 36,
   "metadata": {
    "collapsed": true
   },
   "outputs": [],
   "source": [
    "with open('input.txt') as f:\n",
    "    lines = f.readlines()"
   ]
  },
  {
   "cell_type": "code",
   "execution_count": 38,
   "metadata": {
    "collapsed": false
   },
   "outputs": [],
   "source": [
    "in_str_hidden = lines[0].replace(\"\\n\",\"\")\n",
    "in_alph = lines[2].replace(\"\\n\",\"\").split(\"\\t\")\n",
    "alph_hidden = {}\n",
    "\n",
    "for ind,el in enumerate(in_alph):\n",
    "    alph_hidden[el] = ind\n",
    "\n",
    "in_str_viz = lines[4].replace(\"\\n\",\"\")\n",
    "in_alph = lines[6].replace(\"\\n\",\"\").split(\"\\t\")\n",
    "alph_viz = {}\n",
    "\n",
    "for ind,el in enumerate(in_alph):\n",
    "    alph_viz[el] = ind    \n",
    "    \n",
    "tr_prob = [lines[9].replace(\"\\n\",\"\").split(\"\\t\")[1:4], lines[10].replace(\"\\n\",\"\").split(\"\\t\")[1:4]]\n",
    "\n",
    "class HMM(object):\n",
    "    \n",
    "    alph_hidden = {}\n",
    "    alph_viz = {}\n",
    "    tr_matrix = []\n",
    "    \n",
    "    def __init__(self, alph_hidden, alph_viz, tr_prob):\n",
    "        self.alph_hidden = alph_hidden\n",
    "        self.alph_viz= alph_viz\n",
    "        self.tr_matrix = np.array(tr_prob).astype(np.float)\n",
    "\n",
    "    def compute_transition_probability(self, ch1, ch2):\n",
    "        return self.tr_matrix[self.alph_viz[ch1], self.alph_hidden[ch2]]\n",
    "\n",
    "        \n",
    "ProbDistr = HMM(alph_hidden, alph_viz, tr_prob)\n",
    "\n",
    "index = 0\n",
    "res_prob = 1.000\n",
    "while index < len(in_str_viz):\n",
    "    res_prob *= ProbDistr.compute_transition_probability(in_str_viz[index], in_str_hidden[index])\n",
    "    index += 1\n",
    "    "
   ]
  },
  {
   "cell_type": "code",
   "execution_count": 31,
   "metadata": {
    "collapsed": false
   },
   "outputs": [],
   "source": [
    "# writing output to file\n",
    "with open('output.txt', 'w') as f:\n",
    "    f.write(''.join(str(res_prob)))"
   ]
  },
  {
   "cell_type": "code",
   "execution_count": null,
   "metadata": {
    "collapsed": true
   },
   "outputs": [],
   "source": []
  }
 ],
 "metadata": {
  "kernelspec": {
   "display_name": "Python 2",
   "language": "python",
   "name": "python2"
  },
  "language_info": {
   "codemirror_mode": {
    "name": "ipython",
    "version": 2
   },
   "file_extension": ".py",
   "mimetype": "text/x-python",
   "name": "python",
   "nbconvert_exporter": "python",
   "pygments_lexer": "ipython2",
   "version": "2.7.6"
  }
 },
 "nbformat": 4,
 "nbformat_minor": 0
}
