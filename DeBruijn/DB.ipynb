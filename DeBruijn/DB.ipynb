{
 "cells": [
  {
   "cell_type": "code",
   "execution_count": 39,
   "metadata": {
    "collapsed": true
   },
   "outputs": [],
   "source": [
    "import numpy as np\n",
    "import copy"
   ]
  },
  {
   "cell_type": "code",
   "execution_count": 40,
   "metadata": {
    "collapsed": false
   },
   "outputs": [],
   "source": [
    "with open('input.txt') as f:\n",
    "    lines = f.readlines()\n",
    "\n",
    "lines = [line.replace(\"\\n\", \"\") for line in lines]\n",
    "# print lines"
   ]
  },
  {
   "cell_type": "code",
   "execution_count": 41,
   "metadata": {
    "collapsed": false
   },
   "outputs": [],
   "source": [
    "# Используется тривиальный алгоритм конструкции графа\n",
    "\n",
    "class DB_graph(object):\n",
    "    nodes = {}\n",
    "    k_len = 0\n",
    "    \n",
    "    # Инициализируем граф ДеБрейна\n",
    "    def __init__(self, strings):\n",
    "        \n",
    "        self.k_len = len(strings[0])-1\n",
    "        \n",
    "        for string in strings:\n",
    "            \n",
    "            prefix = string[:-1]\n",
    "            suffix = string[1:]\n",
    "        \n",
    "            # инициализируем ноды\n",
    "            self.nodes[prefix] = []\n",
    "            self.nodes[suffix] = []\n",
    "            \n",
    "        # инициализируем вершины\n",
    "        for node1 in self.nodes:\n",
    "            for node2 in  self.nodes:\n",
    "                if node1[1:] == node2[:-1]:\n",
    "                    if not (node2 in self.nodes[node1]):\n",
    "                        self.nodes[node1].append(node2)\n",
    "                        \n",
    "    def trace(self):       \n",
    "        result = ''\n",
    "        \n",
    "        stack = []\n",
    "        nodes = copy.deepcopy(self.nodes)\n",
    "        \n",
    "        v = ''\n",
    "        for node in self.nodes:\n",
    "            if len(self.nodes[node]) % 2 == 1:\n",
    "                v = node\n",
    "                break\n",
    "        \n",
    "        stack.append(v)\n",
    "        \n",
    "        while len(stack) > 0:\n",
    "            \n",
    "            w = stack[-1]\n",
    "            \n",
    "            for node in self.nodes[w]:\n",
    "                stack.append(node)\n",
    "                self.nodes[w].remove(node)\n",
    "        \n",
    "            if w == stack[-1]:\n",
    "                # print w\n",
    "                stack.pop()\n",
    "                if (result == ''):\n",
    "                    result = w\n",
    "                else:\n",
    "                    result = w[1] + result\n",
    "                \n",
    "        return result[:-self.k_len]\n",
    "            \n",
    "B = DB_graph(lines)\n",
    "#print B.nodes\n",
    "output = B.trace()"
   ]
  },
  {
   "cell_type": "code",
   "execution_count": 42,
   "metadata": {
    "collapsed": false
   },
   "outputs": [],
   "source": [
    "# writing output to file\n",
    "with open('output.txt', 'w') as f:\n",
    "    f.write(output)"
   ]
  },
  {
   "cell_type": "code",
   "execution_count": null,
   "metadata": {
    "collapsed": true
   },
   "outputs": [],
   "source": []
  }
 ],
 "metadata": {
  "kernelspec": {
   "display_name": "Python 2",
   "language": "python",
   "name": "python2"
  },
  "language_info": {
   "codemirror_mode": {
    "name": "ipython",
    "version": 2
   },
   "file_extension": ".py",
   "mimetype": "text/x-python",
   "name": "python",
   "nbconvert_exporter": "python",
   "pygments_lexer": "ipython2",
   "version": "2.7.6"
  }
 },
 "nbformat": 4,
 "nbformat_minor": 0
}
