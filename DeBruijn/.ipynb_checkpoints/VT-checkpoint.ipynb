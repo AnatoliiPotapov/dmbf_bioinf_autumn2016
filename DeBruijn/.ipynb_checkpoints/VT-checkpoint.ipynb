{
 "cells": [
  {
   "cell_type": "code",
   "execution_count": 138,
   "metadata": {
    "collapsed": true
   },
   "outputs": [],
   "source": [
    "import numpy as np"
   ]
  },
  {
   "cell_type": "code",
   "execution_count": 139,
   "metadata": {
    "collapsed": false
   },
   "outputs": [
    {
     "name": "stdout",
     "output_type": "stream",
     "text": [
      "['zzzyxyxzxxxzyyxyyzzzzxzyxxyxyyzzxyxxxzyyyyzxyzxyxxyyzxxyxyyzzxzzxyxzyyyyyxyxxxzyzyyxzyyzxyzyzxxzzyyz', '--------', 'x y z', '--------', 'A B', '--------', ' A B', 'A 0.338 0.662 ', 'B 0.161 0.839 ', '--------', ' x y z', 'A 0.531 0.411 0.058 ', 'B 0.156 0.543 0.301']\n"
     ]
    }
   ],
   "source": [
    "with open('input.txt') as f:\n",
    "    lines = f.readlines()\n",
    "\n",
    "lines = [line.replace(\"\\t\", \" \").replace(\"\\n\", \"\") for line in lines]\n",
    "print lines"
   ]
  },
  {
   "cell_type": "code",
   "execution_count": 140,
   "metadata": {
    "collapsed": false
   },
   "outputs": [
    {
     "name": "stdout",
     "output_type": "stream",
     "text": [
      "[['0.338', '0.662'], ['0.161', '0.839']] [['0.531', '0.411', '0.058'], ['0.156', '0.543', '0.301']]\n"
     ]
    }
   ],
   "source": [
    "# parsing data\n",
    "\n",
    "l_obs = lines[0]\n",
    "obs_alph = lines[2].split(\" \")\n",
    "hid_alph = lines[4].split(\" \")\n",
    "\n",
    "# print obs_alph\n",
    "\n",
    "alph_obs = {}\n",
    "for ind,el in enumerate(obs_alph):\n",
    "    if el!=\"\":\n",
    "        alph_obs[el] = ind\n",
    "\n",
    "\n",
    "alph_hid = {}\n",
    "for ind,el in enumerate(hid_alph):\n",
    "    if el!=\"\":\n",
    "        alph_hid[el] = ind \n",
    "\n",
    "def read_matrix(lines, start, n, last = False):\n",
    "    m = []\n",
    "    for i in range(n):\n",
    "        if last == True and i == n-1:\n",
    "            m.append(lines[start + i].replace(\"\\n\",\"\").split(\" \")[1:])\n",
    "        else:\n",
    "            m.append(lines[start + i].replace(\"\\n\",\"\").split(\" \")[1:-1])\n",
    "    return m\n",
    "\n",
    "tr_prob = read_matrix(lines, 7, len(alph_hid))\n",
    "tr_emission = read_matrix(lines, 7 + 2 + len(alph_hid), len(alph_hid), last = True)\n",
    "\n",
    "print tr_prob, tr_emission"
   ]
  },
  {
   "cell_type": "code",
   "execution_count": 141,
   "metadata": {
    "collapsed": false
   },
   "outputs": [
    {
     "name": "stdout",
     "output_type": "stream",
     "text": [
      "{'A': 0, 'B': 1}\n",
      "{'y': 1, 'x': 0, 'z': 2}\n"
     ]
    }
   ],
   "source": [
    "# инициализируем скрытую марковскую модель\n",
    "\n",
    "class HMM(object):\n",
    "    \n",
    "    alph_hidden = {}\n",
    "    alph_viz = {}\n",
    "    \n",
    "    tr_m = []\n",
    "    em_m = []\n",
    "    \n",
    "    def __init__(self, alph_hidden, alph_viz, tr_prob, tr_emission):\n",
    "        \n",
    "        self.alph_hidden = alph_hidden\n",
    "        self.alph_viz = alph_viz\n",
    "        \n",
    "        self.tr_m = np.array(tr_prob).astype(np.float)\n",
    "        self.em_m = np.array(tr_emission).astype(np.float)\n",
    "    \n",
    "    # для пары скрытых состояний возвращает вероятность шифта\n",
    "    def get_tr_p(self, ch1, ch2):\n",
    "        return self.tr_m[ch1, ch2]\n",
    "    \n",
    "    # для данного скрытого и видимого состояния возвращает вероятность эмиссии\n",
    "    def get_em_p(self, hid, viz):\n",
    "        return self.em_m[hid, self.alph_viz[viz]]\n",
    "    \n",
    "Hmm = HMM(alph_hid, alph_obs, tr_prob, tr_emission)\n",
    "\n",
    "print Hmm.alph_hidden\n",
    "print Hmm.alph_viz"
   ]
  },
  {
   "cell_type": "code",
   "execution_count": 142,
   "metadata": {
    "collapsed": false
   },
   "outputs": [
    {
     "name": "stdout",
     "output_type": "stream",
     "text": [
      "[[ 0.058  0.     0.     0.     0.     0.     0.     0.     0.     0.     0.\n",
      "   0.     0.     0.     0.     0.     0.     0.     0.     0.     0.     0.\n",
      "   0.     0.     0.     0.     0.     0.     0.     0.     0.     0.     0.\n",
      "   0.     0.     0.     0.     0.     0.     0.     0.     0.     0.     0.\n",
      "   0.     0.     0.     0.     0.     0.     0.     0.     0.     0.     0.\n",
      "   0.     0.     0.     0.     0.     0.     0.     0.     0.     0.     0.\n",
      "   0.     0.     0.     0.     0.     0.     0.     0.     0.     0.     0.\n",
      "   0.     0.     0.     0.     0.     0.     0.     0.     0.     0.     0.\n",
      "   0.     0.     0.     0.     0.     0.     0.     0.     0.     0.     0.\n",
      "   0.   ]\n",
      " [ 0.301  0.     0.     0.     0.     0.     0.     0.     0.     0.     0.\n",
      "   0.     0.     0.     0.     0.     0.     0.     0.     0.     0.     0.\n",
      "   0.     0.     0.     0.     0.     0.     0.     0.     0.     0.     0.\n",
      "   0.     0.     0.     0.     0.     0.     0.     0.     0.     0.     0.\n",
      "   0.     0.     0.     0.     0.     0.     0.     0.     0.     0.     0.\n",
      "   0.     0.     0.     0.     0.     0.     0.     0.     0.     0.     0.\n",
      "   0.     0.     0.     0.     0.     0.     0.     0.     0.     0.     0.\n",
      "   0.     0.     0.     0.     0.     0.     0.     0.     0.     0.     0.\n",
      "   0.     0.     0.     0.     0.     0.     0.     0.     0.     0.     0.\n",
      "   0.   ]]\n",
      "[[ 0.531  0.411  0.058]\n",
      " [ 0.156  0.543  0.301]]\n"
     ]
    },
    {
     "name": "stderr",
     "output_type": "stream",
     "text": [
      "/usr/local/lib/python2.7/dist-packages/ipykernel/__main__.py:37: DeprecationWarning: using a non-integer number instead of an integer will result in an error in the future\n"
     ]
    }
   ],
   "source": [
    "# Viterbi algorithm implementation\n",
    "\n",
    "def get_path(Hmm, in_str):\n",
    "    \n",
    "    # t - длина входной строки\n",
    "    t = len(in_str)\n",
    "    # k - размер алфавита наблюдаемых состояний\n",
    "    k = len(Hmm.alph_viz)\n",
    "    # h - размер алфавита скрытых состояний\n",
    "    h = len(Hmm.alph_hidden)\n",
    "    \n",
    "    # score - максимум произведения весов по всем путям из начала до данной вершины\n",
    "    score = np.zeros((h,t))\n",
    "    # index - путь, соответствующий наибольшему score\n",
    "    index = np.zeros((h,t))\n",
    "    \n",
    "    score[:,0] = np.array([Hmm.get_em_p(st,in_str[0]) for st in range(h)])\n",
    "    print score\n",
    "    print Hmm.em_m\n",
    "    for i in range(t)[1:]:\n",
    "        for st in range(h):\n",
    "            pre_sc = [score[ind, i-1] + np.log(Hmm.get_tr_p(st,ind)) + np.log(Hmm.get_em_p(st,in_str[i])) for ind in range(h)]\n",
    "            pre_sc_i = [score[ind, i-1] + np.log(Hmm.get_tr_p(st,ind)) for ind in range(h)]\n",
    "\n",
    "            score[st, i] = np.max(pre_sc)\n",
    "            index[st, i] = np.argmax(pre_sc_i)\n",
    "    \n",
    "    \n",
    "    # print score\n",
    "    # print index\n",
    "    \n",
    "    # обратный ход алгоритма\n",
    "    v_path = np.zeros(t)\n",
    "    v_path[t-1] = np.argmax(score[:,t-1])\n",
    "    \n",
    "    for i in range(t)[1:][::-1]:\n",
    "        v_path[i - 1] = index[v_path[i], i]\n",
    "\n",
    "    rev_d = dict(zip(Hmm.alph_hidden.values(),Hmm.alph_hidden.keys()))    \n",
    "    \n",
    "    # print [rev_d[state] for state in v_path]\n",
    "    return [rev_d[state] for state in v_path]\n",
    "\n",
    "output = get_path(Hmm, l_obs)"
   ]
  },
  {
   "cell_type": "code",
   "execution_count": 143,
   "metadata": {
    "collapsed": false
   },
   "outputs": [],
   "source": [
    "# writing output to file\n",
    "with open('output.txt', 'w') as f:\n",
    "    f.write(''.join(output))"
   ]
  },
  {
   "cell_type": "code",
   "execution_count": 144,
   "metadata": {
    "collapsed": false
   },
   "outputs": [
    {
     "name": "stdout",
     "output_type": "stream",
     "text": [
      "BBBBBBBBBBBBBBBBBBBBBBBBBBBBBBBBBBBBBBBBBBBBBBBBBBBBBBBBBBBBBBBBBBBBBBBBBBBBBBBBBBBBBBBBBBBBBBBBBBBB\n"
     ]
    }
   ],
   "source": [
    "print ''.join(output)"
   ]
  },
  {
   "cell_type": "code",
   "execution_count": null,
   "metadata": {
    "collapsed": true
   },
   "outputs": [],
   "source": []
  }
 ],
 "metadata": {
  "kernelspec": {
   "display_name": "Python 2",
   "language": "python",
   "name": "python2"
  },
  "language_info": {
   "codemirror_mode": {
    "name": "ipython",
    "version": 2
   },
   "file_extension": ".py",
   "mimetype": "text/x-python",
   "name": "python",
   "nbconvert_exporter": "python",
   "pygments_lexer": "ipython2",
   "version": "2.7.6"
  }
 },
 "nbformat": 4,
 "nbformat_minor": 0
}
