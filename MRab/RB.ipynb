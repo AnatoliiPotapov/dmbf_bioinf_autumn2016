{
 "cells": [
  {
   "cell_type": "code",
   "execution_count": 39,
   "metadata": {
    "collapsed": true
   },
   "outputs": [],
   "source": [
    "with open('input.txt') as f:\n",
    "    lines = f.readlines()"
   ]
  },
  {
   "cell_type": "code",
   "execution_count": 40,
   "metadata": {
    "collapsed": false
   },
   "outputs": [],
   "source": [
    "# reading parameters\n",
    "[n, m] = lines[0].split()\n",
    "n = int(n)\n",
    "m = int(m)\n",
    "# print n, m"
   ]
  },
  {
   "cell_type": "code",
   "execution_count": 61,
   "metadata": {
    "collapsed": false
   },
   "outputs": [],
   "source": [
    "# algorithm ** rabbit paradise **\n",
    "ages = [0] * (m)\n",
    "ages[0] = 1\n",
    "\n",
    "for year in range(n-1): \n",
    "    \n",
    "    # increase population\n",
    "    new_rabbits = sum(ages[1:])\n",
    "    \n",
    "    # birthday party\n",
    "    ages[1:] = ages[:-1]\n",
    "    ages[0] = new_rabbits\n",
    "    \n",
    "    # update population\n",
    "    population = sum(ages)\n",
    "\n",
    "# print population"
   ]
  },
  {
   "cell_type": "code",
   "execution_count": 37,
   "metadata": {
    "collapsed": false
   },
   "outputs": [],
   "source": [
    "# writing output to file\n",
    "with open('output.txt', 'w') as f:\n",
    "    f.write(str(population))"
   ]
  }
 ],
 "metadata": {
  "kernelspec": {
   "display_name": "Python 2",
   "language": "python",
   "name": "python2"
  },
  "language_info": {
   "codemirror_mode": {
    "name": "ipython",
    "version": 2
   },
   "file_extension": ".py",
   "mimetype": "text/x-python",
   "name": "python",
   "nbconvert_exporter": "python",
   "pygments_lexer": "ipython2",
   "version": "2.7.6"
  }
 },
 "nbformat": 4,
 "nbformat_minor": 0
}
