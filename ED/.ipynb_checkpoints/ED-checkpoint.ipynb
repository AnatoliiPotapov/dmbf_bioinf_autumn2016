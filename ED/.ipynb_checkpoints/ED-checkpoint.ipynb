{
 "cells": [
  {
   "cell_type": "code",
   "execution_count": 43,
   "metadata": {
    "collapsed": true
   },
   "outputs": [],
   "source": [
    "# uahahah we are going with numpy this time\n",
    "import numpy as np"
   ]
  },
  {
   "cell_type": "code",
   "execution_count": 44,
   "metadata": {
    "collapsed": true
   },
   "outputs": [],
   "source": [
    "with open('input.txt') as f:\n",
    "    lines = f.readlines()"
   ]
  },
  {
   "cell_type": "code",
   "execution_count": 45,
   "metadata": {
    "collapsed": true
   },
   "outputs": [],
   "source": [
    "indexes = []\n",
    "output = []"
   ]
  },
  {
   "cell_type": "code",
   "execution_count": 46,
   "metadata": {
    "collapsed": false
   },
   "outputs": [],
   "source": [
    "# first selecting indexes of dna definitions\n",
    "for index, line in  enumerate(lines):\n",
    "    if '>' in line:\n",
    "        indexes.append(index)\n",
    "\n",
    "indexes.append(len(lines))"
   ]
  },
  {
   "cell_type": "code",
   "execution_count": 47,
   "metadata": {
    "collapsed": false
   },
   "outputs": [
    {
     "name": "stdout",
     "output_type": "stream",
     "text": [
      "[0, 2, 4]\n"
     ]
    }
   ],
   "source": [
    "print indexes"
   ]
  },
  {
   "cell_type": "code",
   "execution_count": 48,
   "metadata": {
    "collapsed": false
   },
   "outputs": [],
   "source": [
    "# populating sequences\n",
    "seq1 = \"\".join(lines[indexes[0]+1:indexes[1]]).replace('\\n', '')\n",
    "seq2 = \"\".join(lines[indexes[1]+1:indexes[2]]).replace('\\n', '')\n",
    "\n",
    "# seq1 = \"sunny\"\n",
    "# seq2 = \"snowy\"\n",
    "\n",
    "# print seq1\n",
    "# print seq2\n",
    "\n",
    "# initializing edit matrix\n",
    "m = np.zeros((len(seq1)+1, len(seq2)+1))\n",
    "m[:,0] = range(len(seq1)+1)\n",
    "m[0,:] = range(len(seq2)+1)\n",
    "\n",
    "# print m\n",
    "\n",
    "\n",
    "# D[i, j] ← min(\n",
    "#    D[i − 1, j] + 1,\n",
    "#    D[i, j − 1] + 1,\n",
    "#    D[i − 1, j − 1] + (V [i] 6= W[j])\n",
    "# )\n",
    "\n",
    "\n",
    "# then calculating an edit matrix \n",
    "for i in range(1, len(seq1)+1):\n",
    "    for j in range(1, len(seq2)+1):\n",
    "        m[i, j] = min(\n",
    "        m[i-1, j] + 1,\n",
    "        m[i, j-1] + 1,\n",
    "        m[i-1, j-1] + (seq1[i-1] != seq2[j-1])\n",
    "        )\n",
    "\n",
    "# print m\n",
    "\n",
    "# producing output\n",
    "output.append(str(int(m[len(seq1), len(seq2)])))"
   ]
  },
  {
   "cell_type": "code",
   "execution_count": 49,
   "metadata": {
    "collapsed": false
   },
   "outputs": [],
   "source": [
    "# writing output to file\n",
    "with open('output.txt', 'w') as f:\n",
    "    f.write('\\n'.join(output))"
   ]
  }
 ],
 "metadata": {
  "kernelspec": {
   "display_name": "Python 2",
   "language": "python",
   "name": "python2"
  },
  "language_info": {
   "codemirror_mode": {
    "name": "ipython",
    "version": 2
   },
   "file_extension": ".py",
   "mimetype": "text/x-python",
   "name": "python",
   "nbconvert_exporter": "python",
   "pygments_lexer": "ipython2",
   "version": "2.7.6"
  }
 },
 "nbformat": 4,
 "nbformat_minor": 0
}
