{
 "cells": [
  {
   "cell_type": "code",
   "execution_count": 143,
   "metadata": {
    "collapsed": true
   },
   "outputs": [],
   "source": [
    "import numpy as np"
   ]
  },
  {
   "cell_type": "code",
   "execution_count": 144,
   "metadata": {
    "collapsed": false
   },
   "outputs": [],
   "source": [
    "with open('input.txt') as f:\n",
    "    lines = f.readlines()\n",
    "\n",
    "lines = [line.replace(\"\\t\", \" \").replace(\"\\n\", \"\") for line in lines]\n",
    "# print lines"
   ]
  },
  {
   "cell_type": "code",
   "execution_count": 145,
   "metadata": {
    "collapsed": false
   },
   "outputs": [],
   "source": [
    "# parsing data\n",
    "\n",
    "l_obs = lines[0]\n",
    "obs_alph = lines[2].split(\" \")\n",
    "hid_alph = lines[4].split(\" \")\n",
    "\n",
    "# print obs_alph\n",
    "\n",
    "alph_obs = {}\n",
    "for ind,el in enumerate(obs_alph):\n",
    "    if el!=\"\":\n",
    "        alph_obs[el] = ind\n",
    "\n",
    "\n",
    "alph_hid = {}\n",
    "for ind,el in enumerate(hid_alph):\n",
    "    if el!=\"\":\n",
    "        alph_hid[el] = ind \n",
    "\n",
    "def read_matrix(lines, start, n, last = False):\n",
    "    m = []\n",
    "    for i in range(n):\n",
    "        if last == True and i == n-1:\n",
    "            m.append(lines[start + i].replace(\"\\n\",\"\").split(\" \")[1:])\n",
    "        else:\n",
    "            m.append(lines[start + i].replace(\"\\n\",\"\").split(\" \")[1:-1])\n",
    "    return m\n",
    "\n",
    "tr_prob = read_matrix(lines, 7, len(alph_hid))\n",
    "tr_emission = read_matrix(lines, 7 + 2 + len(alph_hid), len(alph_hid), last = True)\n",
    "\n",
    "# print tr_prob, tr_emission"
   ]
  },
  {
   "cell_type": "code",
   "execution_count": 146,
   "metadata": {
    "collapsed": false
   },
   "outputs": [],
   "source": [
    "# инициализируем скрытую марковскую модель\n",
    "\n",
    "class HMM(object):\n",
    "    \n",
    "    alph_hidden = {}\n",
    "    alph_viz = {}\n",
    "    \n",
    "    tr_m = []\n",
    "    em_m = []\n",
    "    \n",
    "    def __init__(self, alph_hidden, alph_viz, tr_prob, tr_emission):\n",
    "        \n",
    "        self.alph_hidden = alph_hidden\n",
    "        self.alph_viz = alph_viz\n",
    "        \n",
    "        self.tr_m = np.array(tr_prob).astype(np.float)\n",
    "        self.em_m = np.array(tr_emission).astype(np.float)\n",
    "    \n",
    "    # для пары скрытых состояний возвращает вероятность шифта\n",
    "    def get_tr_p(self, ch1, ch2):\n",
    "        return self.tr_m[ch1, ch2]\n",
    "    \n",
    "    # для данного скрытого и видимого состояния возвращает вероятность эмиссии\n",
    "    def get_em_p(self, hid, viz):\n",
    "        return self.em_m[hid, self.alph_viz[viz]]\n",
    "    \n",
    "Hmm = HMM(alph_hid, alph_obs, tr_prob, tr_emission)\n",
    "\n",
    "# print Hmm.alph_hidden\n",
    "# print Hmm.alph_viz"
   ]
  },
  {
   "cell_type": "code",
   "execution_count": 154,
   "metadata": {
    "collapsed": false
   },
   "outputs": [],
   "source": [
    "# Outcome Likelihood Problem implementation\n",
    "\n",
    "def get_path(Hmm, in_str):\n",
    "    \n",
    "    # t - длина входной строки\n",
    "    t = len(in_str)\n",
    "    # k - размер алфавита наблюдаемых состояний\n",
    "    k = len(Hmm.alph_viz)\n",
    "    # h - размер алфавита скрытых состояний\n",
    "    h = len(Hmm.alph_hidden)\n",
    "    \n",
    "    results = []\n",
    "    \n",
    "    for one_hot in range(h):\n",
    "        \n",
    "        forward = np.zeros((h,t))\n",
    "        forward[one_hot,0] = Hmm.get_em_p(one_hot, in_str[0])\n",
    "        \n",
    "        for i in range(t)[1:]:\n",
    "            for st in range(h):\n",
    "                el = [forward[ind, i-1] * Hmm.get_tr_p(st,ind) for ind in range(h)]\n",
    "                forward[st, i] = np.sum(el) * Hmm.get_em_p(st,in_str[i])\n",
    "        \n",
    "        results.append(np.sum(forward[:,t-1]))\n",
    "    \n",
    "    return results\n",
    "\n",
    "output = get_path(Hmm, l_obs)\n"
   ]
  },
  {
   "cell_type": "code",
   "execution_count": 155,
   "metadata": {
    "collapsed": false
   },
   "outputs": [
    {
     "ename": "TypeError",
     "evalue": "expected a character buffer object",
     "output_type": "error",
     "traceback": [
      "\u001b[1;31m---------------------------------------------------------------------------\u001b[0m",
      "\u001b[1;31mTypeError\u001b[0m                                 Traceback (most recent call last)",
      "\u001b[1;32m<ipython-input-155-bc69b2715d71>\u001b[0m in \u001b[0;36m<module>\u001b[1;34m()\u001b[0m\n\u001b[0;32m      1\u001b[0m \u001b[1;31m# writing output to file\u001b[0m\u001b[1;33m\u001b[0m\u001b[1;33m\u001b[0m\u001b[0m\n\u001b[0;32m      2\u001b[0m \u001b[1;32mwith\u001b[0m \u001b[0mopen\u001b[0m\u001b[1;33m(\u001b[0m\u001b[1;34m'output.txt'\u001b[0m\u001b[1;33m,\u001b[0m \u001b[1;34m'w'\u001b[0m\u001b[1;33m)\u001b[0m \u001b[1;32mas\u001b[0m \u001b[0mf\u001b[0m\u001b[1;33m:\u001b[0m\u001b[1;33m\u001b[0m\u001b[0m\n\u001b[1;32m----> 3\u001b[1;33m     \u001b[0mf\u001b[0m\u001b[1;33m.\u001b[0m\u001b[0mwrite\u001b[0m\u001b[1;33m(\u001b[0m\u001b[0moutput\u001b[0m\u001b[1;33m)\u001b[0m\u001b[1;33m\u001b[0m\u001b[0m\n\u001b[0m",
      "\u001b[1;31mTypeError\u001b[0m: expected a character buffer object"
     ]
    }
   ],
   "source": [
    "# writing output to file\n",
    "with open('output.txt', 'w') as f:\n",
    "    f.write(output)"
   ]
  },
  {
   "cell_type": "code",
   "execution_count": 156,
   "metadata": {
    "collapsed": false
   },
   "outputs": [
    {
     "name": "stdout",
     "output_type": "stream",
     "text": [
      "[8.8695189231367964e-55, 1.3296018008460078e-56]\n"
     ]
    }
   ],
   "source": [
    "print output\n"
   ]
  },
  {
   "cell_type": "code",
   "execution_count": null,
   "metadata": {
    "collapsed": true
   },
   "outputs": [],
   "source": []
  }
 ],
 "metadata": {
  "kernelspec": {
   "display_name": "Python 2",
   "language": "python",
   "name": "python2"
  },
  "language_info": {
   "codemirror_mode": {
    "name": "ipython",
    "version": 2
   },
   "file_extension": ".py",
   "mimetype": "text/x-python",
   "name": "python",
   "nbconvert_exporter": "python",
   "pygments_lexer": "ipython2",
   "version": "2.7.6"
  }
 },
 "nbformat": 4,
 "nbformat_minor": 0
}
