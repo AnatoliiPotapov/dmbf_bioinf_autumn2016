{
 "cells": [
  {
   "cell_type": "code",
   "execution_count": 13,
   "metadata": {
    "collapsed": false
   },
   "outputs": [
    {
     "name": "stdout",
     "output_type": "stream",
     "text": [
      "y\n",
      "['A', 'B']\n",
      "[0.316, 0.027]\n",
      "3.33217503527e-49\n"
     ]
    }
   ],
   "source": [
    "import copy\n",
    "\n",
    "input = open('input.txt')\n",
    "output = open('out.txt', 'w')\n",
    "\n",
    "tr = []\n",
    "em = []\n",
    "list = input.read().split('\\n--------\\n')\n",
    "pi = list[0]\n",
    "s = ''\n",
    "l = len(pi)\n",
    "xi = list[1].split('\\t')\n",
    "b = list[2].split('\\t')\n",
    "for i in range(0, len(b)):\n",
    "    tr.append([])\n",
    "    for j in range(0, len(b)):\n",
    "        tr[i].append(float(list[3].split('\\n')[i+1].split('\\t')[j+1]))\n",
    "tr_dict = {}\n",
    "for i in range(0, len(b)):\n",
    "    for j in range(0, len(b)):\n",
    "        if not tr_dict.setdefault(b[i]+b[j]):\n",
    "\t\t\ttr_dict[b[i]+b[j]] = tr[i][j]\n",
    "for i in range(0, len(b)):\n",
    "    em.append([])\n",
    "    for j in range(0, len(xi)):\n",
    "        em[i].append(float(list[4].split('\\n')[i+1].split('\\t')[j+1]))\n",
    "em_dict = {}\n",
    "for i in range(0, len(b)):\n",
    "    for j in range(0, len(xi)):\n",
    "        if not em_dict.setdefault(b[i]+xi[j]):\n",
    "\t\t\tem_dict[b[i]+xi[j]] = em[i][j]\n",
    "\n",
    "##______________________________________________main \n",
    "\n",
    "v_prev = []\n",
    "v_curr = []\n",
    "v_buff = []\n",
    "\n",
    "print pi[0]\n",
    "print b\n",
    "\n",
    "for i in range(0, len(b)):\n",
    "    v_curr.append(float(em_dict[b[i]+pi[0]]*0.5)) ##p(A)=p(B)=0,5\n",
    "    v_buff.append(0)\n",
    "    \n",
    "print v_curr\n",
    "\n",
    "for pos in range(1, len(pi)):\n",
    "    v_prev = copy.copy(v_curr)\n",
    "    v_curr = copy.copy(v_buff)\n",
    "    for i in range(0, len(b)):\n",
    "        for j in range(0, len(b)):\n",
    "            v_curr[i]+=em_dict[b[i]+pi[pos]]*tr_dict[b[j]+b[i]]*v_prev[j]\n",
    "p = 0\n",
    "for i in range(0, len(b)):\n",
    "    p += v_curr[i]\n",
    "output.write(str(p))\n",
    "print p\n",
    "input.close()\n",
    "output.close()"
   ]
  },
  {
   "cell_type": "code",
   "execution_count": null,
   "metadata": {
    "collapsed": true
   },
   "outputs": [],
   "source": []
  }
 ],
 "metadata": {
  "kernelspec": {
   "display_name": "Python 2",
   "language": "python",
   "name": "python2"
  },
  "language_info": {
   "codemirror_mode": {
    "name": "ipython",
    "version": 2
   },
   "file_extension": ".py",
   "mimetype": "text/x-python",
   "name": "python",
   "nbconvert_exporter": "python",
   "pygments_lexer": "ipython2",
   "version": "2.7.6"
  }
 },
 "nbformat": 4,
 "nbformat_minor": 0
}
