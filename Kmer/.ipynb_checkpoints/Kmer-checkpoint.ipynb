{
 "cells": [
  {
   "cell_type": "code",
   "execution_count": 103,
   "metadata": {
    "collapsed": true
   },
   "outputs": [],
   "source": [
    "with open('input.txt') as f:\n",
    "    lines = f.readlines()"
   ]
  },
  {
   "cell_type": "code",
   "execution_count": 128,
   "metadata": {
    "collapsed": true
   },
   "outputs": [],
   "source": [
    "string = lines[0]\n",
    "kmer_len = lines[1]"
   ]
  },
  {
   "cell_type": "code",
   "execution_count": 131,
   "metadata": {
    "collapsed": false
   },
   "outputs": [],
   "source": [
    "# then producing an output\n",
    "for n, index in enumerate(indexes[:-1]):\n",
    "    output.append(lines[index][1:].replace('\\n', ''))\n",
    "    gc = GC(\"\".join(lines[index+1:indexes[n+1]]).replace('\\n', ''))\n",
    "    # determining if we need to update max values\n",
    "    if (gc > max_GC):\n",
    "        max_GC = gc\n",
    "        max_index = len(output)        \n",
    "    output.append(str(gc))\n",
    "\n",
    "# print output\n",
    "# print output[max_index-1:max_index+1]\n",
    "high_gc = output[max_index-1:max_index+1]"
   ]
  },
  {
   "cell_type": "code",
   "execution_count": 102,
   "metadata": {
    "collapsed": false
   },
   "outputs": [],
   "source": [
    "# writing output to file\n",
    "with open('output.txt', 'w') as f:\n",
    "    f.write('\\n'.join(high_gc))"
   ]
  }
 ],
 "metadata": {
  "kernelspec": {
   "display_name": "Python 2",
   "language": "python",
   "name": "python2"
  },
  "language_info": {
   "codemirror_mode": {
    "name": "ipython",
    "version": 2
   },
   "file_extension": ".py",
   "mimetype": "text/x-python",
   "name": "python",
   "nbconvert_exporter": "python",
   "pygments_lexer": "ipython2",
   "version": "2.7.6"
  }
 },
 "nbformat": 4,
 "nbformat_minor": 0
}
