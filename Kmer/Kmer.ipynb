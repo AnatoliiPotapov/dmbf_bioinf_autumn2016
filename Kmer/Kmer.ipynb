{
 "cells": [
  {
   "cell_type": "code",
   "execution_count": 61,
   "metadata": {
    "collapsed": true
   },
   "outputs": [],
   "source": [
    "with open('input.txt') as f:\n",
    "    lines = f.readlines()"
   ]
  },
  {
   "cell_type": "code",
   "execution_count": 62,
   "metadata": {
    "collapsed": false
   },
   "outputs": [],
   "source": [
    "str = lines[0]\n",
    "kmer_len = int(lines[1])\n",
    "# print string\n",
    "# print kmer_len\n",
    "\n",
    "# creating a dictionary for kmer number of occurencies\n",
    "kmers = {}\n",
    "\n",
    "common_kmers = []"
   ]
  },
  {
   "cell_type": "code",
   "execution_count": 63,
   "metadata": {
    "collapsed": false
   },
   "outputs": [],
   "source": [
    "# going through all substringth of length kmer_len\n",
    "for index in range(len(str) - kmer_len):\n",
    "    kmer = str[index:(index + kmer_len)]\n",
    "    # if kmer is already present in dictionary\n",
    "    if kmer in kmers:\n",
    "        kmers[kmer] = kmers[kmer] + 1\n",
    "    else:\n",
    "        kmers[kmer] = 1\n",
    "\n",
    "# sorting a dictionary\n",
    "sorted_kmers = sorted(kmers.items(), key=lambda x: -x[1])\n",
    "\n",
    "# getting only the most common kmers\n",
    "most_common_num = sorted_kmers[0][1]\n",
    "\n",
    "for kmer in sorted_kmers:\n",
    "    if (kmer[1] == most_common_num):\n",
    "        common_kmers.append(kmer[0])\n",
    "\n",
    "# print(common_kmers)"
   ]
  },
  {
   "cell_type": "code",
   "execution_count": 64,
   "metadata": {
    "collapsed": false
   },
   "outputs": [],
   "source": [
    "# writing output to file\n",
    "with open('output.txt', 'w') as f:\n",
    "    f.write(' '.join(common_kmers))"
   ]
  }
 ],
 "metadata": {
  "kernelspec": {
   "display_name": "Python 2",
   "language": "python",
   "name": "python2"
  },
  "language_info": {
   "codemirror_mode": {
    "name": "ipython",
    "version": 2
   },
   "file_extension": ".py",
   "mimetype": "text/x-python",
   "name": "python",
   "nbconvert_exporter": "python",
   "pygments_lexer": "ipython2",
   "version": "2.7.6"
  }
 },
 "nbformat": 4,
 "nbformat_minor": 0
}
