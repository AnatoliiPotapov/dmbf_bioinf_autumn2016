{
 "cells": [
  {
   "cell_type": "code",
   "execution_count": 1,
   "metadata": {
    "collapsed": true
   },
   "outputs": [],
   "source": [
    "# Пока что будем решать на тривиальном алгоритме суффиксного массива"
   ]
  },
  {
   "cell_type": "code",
   "execution_count": 7,
   "metadata": {
    "collapsed": false
   },
   "outputs": [],
   "source": [
    "# import some useful shit\n",
    "import numpy\n",
    "from bisect import bisect_left, bisect_right"
   ]
  },
  {
   "cell_type": "code",
   "execution_count": 3,
   "metadata": {
    "collapsed": true
   },
   "outputs": [],
   "source": [
    "with open('input.txt') as f:\n",
    "    lines = f.readlines()"
   ]
  },
  {
   "cell_type": "code",
   "execution_count": 4,
   "metadata": {
    "collapsed": false
   },
   "outputs": [],
   "source": [
    "dna_string = lines[0].rstrip('\\n')\n",
    "patterns = [line.rstrip('\\n') for line in lines[1:]]\n",
    "#print dna_string\n",
    "#print patterns"
   ]
  },
  {
   "cell_type": "code",
   "execution_count": 53,
   "metadata": {
    "collapsed": false,
    "scrolled": true
   },
   "outputs": [],
   "source": [
    "# Инициализируем вывод\n",
    "output = []\n",
    "\n",
    "# Самый наивный алгоритм\n",
    "def construct_suffix_array(t):\n",
    "    suffixes = sorted([(i, t[i:]) for i in xrange(len(t))], key = lambda item: item[1])\n",
    "    return suffixes \n",
    "\n",
    "def next_p(pattern):\n",
    "    l = ['A','C','G','T','X']\n",
    "    ch = pattern[len(pattern)-1] \n",
    "    new_ch = l[[i for i in range(len(l)) if l[i] == ch][0]+1]\n",
    "    new_pattern = pattern[:-1]\n",
    "    new_pattern+= new_ch\n",
    "    return new_pattern\n",
    "\n",
    "def find_all_occurencies(suff_arr, pattern):\n",
    "    suff_sorted = [item[1] for item in suff_arr]\n",
    "    indexes_sorted = [item[0] for item in suff_arr]\n",
    "    st, en = bisect_left(suff_sorted, pattern), bisect_left(suff_sorted, next_p(pattern))\n",
    "    return indexes_sorted[st:en]\n",
    "\n",
    "suffix_array = construct_suffix_array(dna_string)\n",
    "\n",
    "for pattern in patterns:\n",
    "    output.extend(find_all_occurencies(suffix_array, pattern))\n",
    "\n",
    "# print output"
   ]
  },
  {
   "cell_type": "code",
   "execution_count": 57,
   "metadata": {
    "collapsed": false
   },
   "outputs": [],
   "source": [
    "# writing output to file\n",
    "with open('output.txt', 'w') as f:\n",
    "    f.write(' '.join([str(el) for el in output]))"
   ]
  }
 ],
 "metadata": {
  "kernelspec": {
   "display_name": "Python 2",
   "language": "python",
   "name": "python2"
  },
  "language_info": {
   "codemirror_mode": {
    "name": "ipython",
    "version": 2
   },
   "file_extension": ".py",
   "mimetype": "text/x-python",
   "name": "python",
   "nbconvert_exporter": "python",
   "pygments_lexer": "ipython2",
   "version": "2.7.6"
  }
 },
 "nbformat": 4,
 "nbformat_minor": 0
}
