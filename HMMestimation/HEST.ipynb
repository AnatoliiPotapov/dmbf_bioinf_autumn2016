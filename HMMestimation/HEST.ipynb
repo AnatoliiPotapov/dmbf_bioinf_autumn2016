{
 "cells": [
  {
   "cell_type": "code",
   "execution_count": 66,
   "metadata": {
    "collapsed": true
   },
   "outputs": [],
   "source": [
    "import numpy as np"
   ]
  },
  {
   "cell_type": "code",
   "execution_count": 79,
   "metadata": {
    "collapsed": false
   },
   "outputs": [],
   "source": [
    "with open('input.txt') as f:\n",
    "    lines = f.readlines()\n",
    "\n",
    "lines = [line.replace(\"\\t\", \" \").replace(\"\\n\", \"\") for line in lines]\n",
    "# print lines"
   ]
  },
  {
   "cell_type": "code",
   "execution_count": 80,
   "metadata": {
    "collapsed": false
   },
   "outputs": [],
   "source": [
    "# parsing data\n",
    "\n",
    "obs = lines[0]\n",
    "hid_state = lines[4]\n",
    "\n",
    "obs_alph = lines[2].split(\" \")\n",
    "hid_alph = lines[6].split(\" \")\n",
    "\n",
    "alph_obs = {}\n",
    "for ind,el in enumerate(obs_alph):\n",
    "    if el!=\"\":\n",
    "        alph_obs[el] = ind\n",
    "\n",
    "\n",
    "alph_hid = {}\n",
    "for ind,el in enumerate(hid_alph):\n",
    "    if el!=\"\":\n",
    "        alph_hid[el] = ind \n",
    "        "
   ]
  },
  {
   "cell_type": "code",
   "execution_count": 81,
   "metadata": {
    "collapsed": false
   },
   "outputs": [],
   "source": [
    "# useful function for printing tabular data\n",
    "def table(data, left_header, up_header):\n",
    "    lines = []\n",
    "    d = \"\\t\"\n",
    "    lines.append(\" \" + d + (d).join(up_header) + '\\n')\n",
    "    \n",
    "    for i in range(data.shape[0]):\n",
    "        lines.append(left_header[i] + d + (d).join([format(num, '.4f') for num in data[i,:]]) + '\\n')\n",
    "    \n",
    "    return(lines)\n",
    "\n",
    "# инициализируем скрытую марковскую модель\n",
    "\n",
    "class HMM(object):\n",
    "    \n",
    "    alph_hidden = {}\n",
    "    alph_viz = {}\n",
    "    \n",
    "    tr_m = []\n",
    "    em_m = []\n",
    "    \n",
    "    def __init__(self, alph_hidden, alph_viz):\n",
    "        \n",
    "        self.alph_hidden = alph_hidden\n",
    "        self.alph_viz = alph_viz\n",
    "        \n",
    "        self.tr_m = np.zeros((len(alph_hidden), len(alph_hidden)))\n",
    "        self.em_m = np.zeros((len(alph_hidden), len(alph_viz)))\n",
    "    \n",
    "    def incr_str(self, obs, hid_state):\n",
    "        l = len(obs)\n",
    "        \n",
    "        for index in range(l):\n",
    "            self.em_m[self.alph_hidden[hid_state[index]],\n",
    "                      self.alph_viz[obs[index]]] += 1\n",
    "            \n",
    "        for index in range(l-1):\n",
    "            self.tr_m[self.alph_hidden[hid_state[index]],\n",
    "                      self.alph_hidden[hid_state[index+1]]] += 1    \n",
    "        \n",
    "        for i in range(len(self.alph_hidden)):\n",
    "            self.em_m[i,:] /= sum(self.em_m[i, :])\n",
    "            self.tr_m[i,:] /= sum(self.tr_m[i, :])\n",
    "            \n",
    "    def table_formation(self):\n",
    "        \n",
    "        hid_lookup = dict(zip(self.alph_hidden.values(), self.alph_hidden.keys()))\n",
    "        viz_lookup = dict(zip(self.alph_viz.values(), self.alph_viz.keys()))\n",
    "        \n",
    "        lines = []\n",
    "        \n",
    "        tr_header = []\n",
    "        for i in hid_lookup:\n",
    "            tr_header.append(hid_lookup[i]) \n",
    "        \n",
    "        em_header = []\n",
    "        for i in viz_lookup:\n",
    "            em_header.append(viz_lookup[i]) \n",
    "\n",
    "        transition_t = table(self.tr_m, tr_header, tr_header)\n",
    "        for line in transition_t:\n",
    "            lines.append(line)\n",
    "        \n",
    "        lines.append('--------\\n')\n",
    "        \n",
    "        emission_t = table(self.em_m, tr_header, em_header)\n",
    "        for line in emission_t:\n",
    "            lines.append(line)\n",
    "        \n",
    "        \n",
    "        return lines\n",
    "        \n",
    "            \n",
    "\n",
    "Hmm = HMM(alph_hid, alph_obs)\n",
    "Hmm.incr_str(obs, hid_state)\n",
    "\n",
    "\n",
    "lines = Hmm.table_formation()\n",
    "# for line in lines:\n",
    "# print line\n",
    "\n",
    "# print Hmm.tr_m\n",
    "# print Hmm.em_m"
   ]
  },
  {
   "cell_type": "code",
   "execution_count": 82,
   "metadata": {
    "collapsed": false
   },
   "outputs": [],
   "source": [
    "# writing output to file\n",
    "with open('output.txt', 'w') as f:\n",
    "    f.write(('').join(lines))"
   ]
  },
  {
   "cell_type": "code",
   "execution_count": null,
   "metadata": {
    "collapsed": true
   },
   "outputs": [],
   "source": []
  },
  {
   "cell_type": "code",
   "execution_count": null,
   "metadata": {
    "collapsed": true
   },
   "outputs": [],
   "source": []
  }
 ],
 "metadata": {
  "kernelspec": {
   "display_name": "Python 2",
   "language": "python",
   "name": "python2"
  },
  "language_info": {
   "codemirror_mode": {
    "name": "ipython",
    "version": 2
   },
   "file_extension": ".py",
   "mimetype": "text/x-python",
   "name": "python",
   "nbconvert_exporter": "python",
   "pygments_lexer": "ipython2",
   "version": "2.7.6"
  }
 },
 "nbformat": 4,
 "nbformat_minor": 0
}
