{
 "cells": [
  {
   "cell_type": "code",
   "execution_count": 1,
   "metadata": {
    "collapsed": true
   },
   "outputs": [],
   "source": [
    "with open('input.txt') as f:\n",
    "    lines = f.readlines()"
   ]
  },
  {
   "cell_type": "code",
   "execution_count": 2,
   "metadata": {
    "collapsed": false
   },
   "outputs": [],
   "source": [
    "# initializing string and substring\n",
    "string = lines[0].replace('\\n', '')\n",
    "substr = lines[1].replace('\\n', '')\n",
    "\n",
    "# print str\n",
    "# print substr\n",
    "\n",
    "sub_length = len(substr)\n",
    "main_str = substr + \"#\" + string\n",
    "# print main_str"
   ]
  },
  {
   "cell_type": "code",
   "execution_count": 3,
   "metadata": {
    "collapsed": false
   },
   "outputs": [],
   "source": [
    "# function for calclulating Z-function O(n)\n",
    "\n",
    "def z_function(s):\n",
    "    \n",
    "    n = len(s)\n",
    "    z = [0 for j in range(n)]\n",
    "    l, r = 0, 0\n",
    "    \n",
    "    for i in range(n):\n",
    "        \n",
    "        if (i <= r):\n",
    "            z[i] = min(r-i+1, z[i-l])\n",
    "            \n",
    "        while (i+z[i] < n and s[z[i]] == s[i+z[i]]):\n",
    "            z[i] = z[i] + 1\n",
    "        \n",
    "        if (i+z[i]-1 > r):\n",
    "            l = i\n",
    "            r = i+z[i]-1\n",
    "\n",
    "    return z    "
   ]
  },
  {
   "cell_type": "code",
   "execution_count": 6,
   "metadata": {
    "collapsed": false
   },
   "outputs": [
    {
     "name": "stdout",
     "output_type": "stream",
     "text": [
      "['2', '4', '10']\n"
     ]
    }
   ],
   "source": [
    "# calculating \n",
    "z = z_function(main_str)\n",
    "indices = [str(i - sub_length) for i, x in enumerate(z) if x == sub_length] \n",
    "# print indices"
   ]
  },
  {
   "cell_type": "code",
   "execution_count": null,
   "metadata": {
    "collapsed": true
   },
   "outputs": [],
   "source": [
    "# writing output to file\n",
    "with open('output.txt', 'w') as f:\n",
    "    f.write(' '.join(indices))"
   ]
  }
 ],
 "metadata": {
  "kernelspec": {
   "display_name": "Python 2",
   "language": "python",
   "name": "python2"
  },
  "language_info": {
   "codemirror_mode": {
    "name": "ipython",
    "version": 2
   },
   "file_extension": ".py",
   "mimetype": "text/x-python",
   "name": "python",
   "nbconvert_exporter": "python",
   "pygments_lexer": "ipython2",
   "version": "2.7.6"
  }
 },
 "nbformat": 4,
 "nbformat_minor": 0
}
