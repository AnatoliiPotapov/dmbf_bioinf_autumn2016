{
 "cells": [
  {
   "cell_type": "code",
   "execution_count": 1,
   "metadata": {
    "collapsed": true
   },
   "outputs": [],
   "source": [
    "# uahahah we are going with numpy this time\n",
    "import numpy as np\n",
    "import blosum"
   ]
  },
  {
   "cell_type": "code",
   "execution_count": 2,
   "metadata": {
    "collapsed": false
   },
   "outputs": [],
   "source": [
    "# exploring class which provides interface to blossum matrix\n",
    "pam = blosum.Matrix(\"PAM250.txt\")\n",
    "# pam.lookup_score(\"A\", \"A\")"
   ]
  },
  {
   "cell_type": "code",
   "execution_count": 3,
   "metadata": {
    "collapsed": true
   },
   "outputs": [],
   "source": [
    "with open('input.txt') as f:\n",
    "    lines = f.readlines()"
   ]
  },
  {
   "cell_type": "code",
   "execution_count": 4,
   "metadata": {
    "collapsed": true
   },
   "outputs": [],
   "source": [
    "indexes = []\n",
    "output = []"
   ]
  },
  {
   "cell_type": "code",
   "execution_count": 5,
   "metadata": {
    "collapsed": false
   },
   "outputs": [],
   "source": [
    "# first selecting indexes of dna definitions\n",
    "for index, line in  enumerate(lines):\n",
    "    if '>' in line:\n",
    "        indexes.append(index)\n",
    "\n",
    "indexes.append(len(lines))"
   ]
  },
  {
   "cell_type": "code",
   "execution_count": 6,
   "metadata": {
    "collapsed": false
   },
   "outputs": [
    {
     "name": "stdout",
     "output_type": "stream",
     "text": [
      "MEANLYPRTEINSTRING\n",
      "PLEASANTLYEINSTEIN\n",
      "(array([17]), array([18]))\n"
     ]
    }
   ],
   "source": [
    "# populating sequences\n",
    "seq1 = \"\".join(lines[indexes[0]+1:indexes[1]]).replace('\\n', '')\n",
    "seq2 = \"\".join(lines[indexes[1]+1:indexes[2]]).replace('\\n', '')\n",
    "\n",
    "print seq1\n",
    "print seq2\n",
    "\n",
    "# initializing edit matrix\n",
    "\n",
    "m = np.zeros((len(seq1)+1, len(seq2)+1))\n",
    "m[:,0] = [-5*i for i in range(len(seq1)+1)]\n",
    "m[0,:] = [-5*i for i in range(len(seq2)+1)] \n",
    "\n",
    "# initializing path matrix\n",
    "\n",
    "path = np.zeros((len(seq1)+1, len(seq2)+1))\n",
    "path[:,0] = [0 for i in range(len(seq1)+1)]\n",
    "path[0,:] = [0 for i in range(len(seq2)+1)] \n",
    "\n",
    "# then calculating an edit matrix \n",
    "for i in range(1, len(seq1)+1):\n",
    "    for j in range(1, len(seq2)+1):\n",
    "        \n",
    "        # let the magic begin!\n",
    "        m[i, j] = 0\n",
    "        path[i, j] = 0\n",
    "        \n",
    "        # 1 - diagonal\n",
    "        # 2 - right\n",
    "        # 3 - down\n",
    "        \n",
    "        if m[i, j] < m[i-1, j-1] + int(pam.lookup_score(seq1[i-1], seq2[j-1])):\n",
    "            m[i, j] = m[i-1, j-1] + int(pam.lookup_score(seq1[i-1], seq2[j-1]))\n",
    "            path[i, j] = 1\n",
    "            \n",
    "        if m[i, j] < m[i-1, j] - 5:\n",
    "            m[i, j] = m[i-1, j] - 5\n",
    "            path[i, j] = 2\n",
    "            \n",
    "        if m[i, j] < m[i, j-1] - 5:\n",
    "            m[i, j] = m[i, j-1] - 5\n",
    "            path[i, j] = 3\n",
    "\n",
    "output.append(str(int(m.max())))\n",
    "(x_max, y_max) = np.where(m == m.max())\n",
    "print (x_max, y_max)"
   ]
  },
  {
   "cell_type": "code",
   "execution_count": 8,
   "metadata": {
    "collapsed": false
   },
   "outputs": [
    {
     "name": "stdout",
     "output_type": "stream",
     "text": [
      "LYPRTEINSTRIN\n",
      "LYEINSTEIN\n"
     ]
    }
   ],
   "source": [
    "# going back collecting alignment\n",
    "\n",
    "alignment = []\n",
    "i = x_max[0]\n",
    "j = y_max[0]\n",
    "\n",
    "while not (path[i,j] == 0):\n",
    "    \n",
    "    if path[i,j] == 1:\n",
    "        alignment.append((i,j))\n",
    "        if i>0: i-=1\n",
    "        if j>0: j-=1\n",
    "        \n",
    "    if path[i,j] == 3:\n",
    "        alignment.append((i,j))\n",
    "        if j>0: j-=1\n",
    "    \n",
    "    if path[i,j] == 2:\n",
    "        alignment.append((i,j))\n",
    "        if i>0: i-=1\n",
    "\n",
    "alignment.append((i,j))\n",
    "# print alignment\n",
    "\n",
    "# producing output\n",
    "output.append(seq1[i:x_max[0]])\n",
    "output.append(seq2[j:y_max[0]])\n",
    "\n",
    "print seq1[i:x_max[0]]\n",
    "print seq2[j:y_max[0]]"
   ]
  },
  {
   "cell_type": "code",
   "execution_count": null,
   "metadata": {
    "collapsed": false
   },
   "outputs": [],
   "source": [
    "# writing output to file\n",
    "with open('output.txt', 'w') as f:\n",
    "    f.write('\\n'.join(output))"
   ]
  },
  {
   "cell_type": "code",
   "execution_count": null,
   "metadata": {
    "collapsed": true
   },
   "outputs": [],
   "source": []
  }
 ],
 "metadata": {
  "kernelspec": {
   "display_name": "Python 2",
   "language": "python",
   "name": "python2"
  },
  "language_info": {
   "codemirror_mode": {
    "name": "ipython",
    "version": 2
   },
   "file_extension": ".py",
   "mimetype": "text/x-python",
   "name": "python",
   "nbconvert_exporter": "python",
   "pygments_lexer": "ipython2",
   "version": "2.7.6"
  }
 },
 "nbformat": 4,
 "nbformat_minor": 0
}
