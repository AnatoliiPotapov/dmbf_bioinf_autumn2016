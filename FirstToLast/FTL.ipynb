{
 "cells": [
  {
   "cell_type": "code",
   "execution_count": 1,
   "metadata": {
    "collapsed": true
   },
   "outputs": [],
   "source": [
    "with open('input.txt') as f:\n",
    "    lines = f.readlines()"
   ]
  },
  {
   "cell_type": "code",
   "execution_count": 111,
   "metadata": {
    "collapsed": false
   },
   "outputs": [
    {
     "name": "stdout",
     "output_type": "stream",
     "text": [
      "T$GACCA\n",
      "3\n"
     ]
    }
   ],
   "source": [
    "# initializing string and substring\n",
    "str = lines[0].replace('\\n', '')\n",
    "index = int(lines[1])"
   ]
  },
  {
   "cell_type": "code",
   "execution_count": 112,
   "metadata": {
    "collapsed": false
   },
   "outputs": [],
   "source": [
    "# naive implementation of FM functions\n",
    "\n",
    "class FM(object):\n",
    "    freq = {}\n",
    "    alphabet = []\n",
    "    C = {}\n",
    "    Occ = []\n",
    "    def __init__(self, str):\n",
    "        \n",
    "        # Custom comparison\n",
    "        comp = {'$':0, 'A':1, 'C':2, 'G':3, 'T':4}\n",
    "        # Calculationg alphabet(sorted)\n",
    "        alphabet = sorted(comp, key= lambda x: comp[x])\n",
    "        zero_dict = {}\n",
    "        # Init frequences\n",
    "        for key in comp:\n",
    "            self.freq[key] = 0\n",
    "            zero_dict[key] = 0 \n",
    "        \n",
    "        # Calculating frequences\n",
    "        for ch in str:\n",
    "            if ch in self.freq:\n",
    "                self.freq[ch] += 1\n",
    "            else:\n",
    "                self.freq[ch] = 1\n",
    "        \n",
    "        # Calculating C function\n",
    "        counter = 0\n",
    "        for key in alphabet:\n",
    "            self.C[key] = counter\n",
    "            counter+= self.freq[key]\n",
    "            \n",
    "        # Calculating Occ\n",
    "        new_dict = zero_dict\n",
    "        last_dict = zero_dict\n",
    "        for i in range(len(str)):\n",
    "            ch = str[i]\n",
    "            new_dict[ch] = last_dict[ch] + 1\n",
    "            self.Occ.append(new_dict.copy())\n",
    "            last_dict = new_dict\n",
    "            \n",
    "\n",
    "    def queryC(self, ch):\n",
    "        return self.C[ch]\n",
    "    \n",
    "    def queryOcc(self, ch, ind):\n",
    "        return self.Occ[ind][ch]        "
   ]
  },
  {
   "cell_type": "code",
   "execution_count": 114,
   "metadata": {
    "collapsed": false
   },
   "outputs": [
    {
     "name": "stdout",
     "output_type": "stream",
     "text": [
      "{'A': 1, 'C': 3, '$': 0, 'G': 5, 'T': 6}\n",
      "2\n"
     ]
    }
   ],
   "source": [
    "FMfunc = FM(str)\n",
    "result = FMfunc.queryC(str[index]) + FMfunc.queryOcc(str[index],index)"
   ]
  },
  {
   "cell_type": "code",
   "execution_count": 27,
   "metadata": {
    "collapsed": false
   },
   "outputs": [
    {
     "data": {
      "text/plain": [
       "True"
      ]
     },
     "execution_count": 27,
     "metadata": {},
     "output_type": "execute_result"
    }
   ],
   "source": [
    "# writing output to file\n",
    "with open('output.txt', 'w') as f:\n",
    "    f.write(result)"
   ]
  },
  {
   "cell_type": "code",
   "execution_count": null,
   "metadata": {
    "collapsed": true
   },
   "outputs": [],
   "source": []
  },
  {
   "cell_type": "code",
   "execution_count": null,
   "metadata": {
    "collapsed": true
   },
   "outputs": [],
   "source": []
  }
 ],
 "metadata": {
  "kernelspec": {
   "display_name": "Python 2",
   "language": "python",
   "name": "python2"
  },
  "language_info": {
   "codemirror_mode": {
    "name": "ipython",
    "version": 2
   },
   "file_extension": ".py",
   "mimetype": "text/x-python",
   "name": "python",
   "nbconvert_exporter": "python",
   "pygments_lexer": "ipython2",
   "version": "2.7.6"
  }
 },
 "nbformat": 4,
 "nbformat_minor": 0
}
