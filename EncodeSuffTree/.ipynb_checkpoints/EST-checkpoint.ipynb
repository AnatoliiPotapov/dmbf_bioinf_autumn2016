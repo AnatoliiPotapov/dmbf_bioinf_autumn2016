{
 "cells": [
  {
   "cell_type": "code",
   "execution_count": 1,
   "metadata": {
    "collapsed": false
   },
   "outputs": [],
   "source": [
    "# import some useful shit\n",
    "import numpy\n",
    "import lcs"
   ]
  },
  {
   "cell_type": "code",
   "execution_count": 2,
   "metadata": {
    "collapsed": true
   },
   "outputs": [],
   "source": [
    "with open('input.txt') as f:\n",
    "    lines = f.readlines()"
   ]
  },
  {
   "cell_type": "code",
   "execution_count": 3,
   "metadata": {
    "collapsed": false
   },
   "outputs": [
    {
     "name": "stdout",
     "output_type": "stream",
     "text": [
      "ATAAATG$\n"
     ]
    }
   ],
   "source": [
    "dna_string = lines[0].rstrip('\\n')\n",
    "# print dna_string"
   ]
  },
  {
   "cell_type": "code",
   "execution_count": 10,
   "metadata": {
    "collapsed": false
   },
   "outputs": [],
   "source": [
    "# We will be constructing generalized suffix tree with Uchonen algoithm\n",
    "tree = lcs.SuffixTree()\n",
    "tree.append_string(dna_string, manual_ending = True)\n",
    "map_string = ''.join(tree.input_string)\n",
    "\n",
    "# Инициализируем вывод\n",
    "output = []\n",
    "\n",
    "# Пройдемся по дереву до листьев и соберем все бананы\n",
    "edges = tree.root.edges\n",
    "\n",
    "def get_edges(edges):\n",
    "    for edge in edges.items():\n",
    "        current_node = edge[1]\n",
    "        output.append(map_string[current_node.start : current_node.end])\n",
    "        print_edges(current_node.edges)\n",
    "        \n",
    "get_edges(edges)\n",
    "# print output"
   ]
  },
  {
   "cell_type": "code",
   "execution_count": 11,
   "metadata": {
    "collapsed": false
   },
   "outputs": [],
   "source": [
    "# writing output to file\n",
    "with open('output.txt', 'w') as f:\n",
    "    f.write('\\n'.join(output))"
   ]
  },
  {
   "cell_type": "code",
   "execution_count": null,
   "metadata": {
    "collapsed": true
   },
   "outputs": [],
   "source": []
  }
 ],
 "metadata": {
  "kernelspec": {
   "display_name": "Python 2",
   "language": "python",
   "name": "python2"
  },
  "language_info": {
   "codemirror_mode": {
    "name": "ipython",
    "version": 2
   },
   "file_extension": ".py",
   "mimetype": "text/x-python",
   "name": "python",
   "nbconvert_exporter": "python",
   "pygments_lexer": "ipython2",
   "version": "2.7.6"
  }
 },
 "nbformat": 4,
 "nbformat_minor": 0
}
