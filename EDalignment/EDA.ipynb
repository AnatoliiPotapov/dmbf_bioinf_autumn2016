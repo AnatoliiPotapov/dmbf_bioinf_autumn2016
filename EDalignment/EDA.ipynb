{
 "cells": [
  {
   "cell_type": "code",
   "execution_count": 298,
   "metadata": {
    "collapsed": true
   },
   "outputs": [],
   "source": [
    "# uahahah we are going with numpy this time\n",
    "import numpy as np"
   ]
  },
  {
   "cell_type": "code",
   "execution_count": 299,
   "metadata": {
    "collapsed": true
   },
   "outputs": [],
   "source": [
    "with open('input.txt') as f:\n",
    "    lines = f.readlines()"
   ]
  },
  {
   "cell_type": "code",
   "execution_count": 300,
   "metadata": {
    "collapsed": true
   },
   "outputs": [],
   "source": [
    "indexes = []\n",
    "output = []"
   ]
  },
  {
   "cell_type": "code",
   "execution_count": 301,
   "metadata": {
    "collapsed": false
   },
   "outputs": [],
   "source": [
    "# first selecting indexes of dna definitions\n",
    "for index, line in  enumerate(lines):\n",
    "    if '>' in line:\n",
    "        indexes.append(index)\n",
    "\n",
    "indexes.append(len(lines))"
   ]
  },
  {
   "cell_type": "code",
   "execution_count": 303,
   "metadata": {
    "collapsed": false
   },
   "outputs": [],
   "source": [
    "# populating sequences\n",
    "seq1 = \"\".join(lines[indexes[0]+1:indexes[1]]).replace('\\n', '')\n",
    "seq2 = \"\".join(lines[indexes[1]+1:indexes[2]]).replace('\\n', '')\n"
   ]
  },
  {
   "cell_type": "code",
   "execution_count": 304,
   "metadata": {
    "collapsed": false
   },
   "outputs": [
    {
     "name": "stdout",
     "output_type": "stream",
     "text": [
      "[[ 0.  1.  1.  1.  1.  1.  1.  1.]\n",
      " [ 2.  0.  1.  1.  1.  1.  1.  1.]\n",
      " [ 2.  2.  0.  1.  1.  1.  1.  1.]\n",
      " [ 2.  2.  2.  0.  0.  0.  1.  1.]\n",
      " [ 2.  2.  2.  0.  0.  1.  0.  0.]\n",
      " [ 2.  2.  2.  0.  0.  0.  0.  0.]\n",
      " [ 2.  2.  2.  2.  2.  0.  0.  0.]]\n"
     ]
    }
   ],
   "source": [
    "# but that`s not all, we need to store traces, fuck`n traces!\n",
    "# 0 - diagonal\n",
    "# 1 - downside\n",
    "# 2 - rightside\n",
    "\n",
    "# initializing edit matrix\n",
    "m = np.zeros((len(seq1)+1, len(seq2)+1))\n",
    "m[:,0] = range(len(seq1)+1)\n",
    "m[0,:] = range(len(seq2)+1)\n",
    "\n",
    "# initializing trace matrix\n",
    "tr = np.zeros((len(seq1)+1, len(seq2)+1))\n",
    "tr[:,0] = [2] * (len(seq1)+1)\n",
    "tr[0,:] = [1] * (len(seq2)+1)\n",
    "tr[0, 0] = 0\n",
    "\n",
    "# then calculating both\n",
    "for i in range(1, len(seq1)+1):\n",
    "    for j in range(1, len(seq2)+1):\n",
    "        \n",
    "    \n",
    "        m[i, j] = m[i-1, j-1] + (seq1[i-1] != seq2[j-1])\n",
    "        tr[i, j] = 0\n",
    "        \n",
    "        if m[i, j] > m[i-1, j] + 1:\n",
    "            m[i, j] = m[i-1, j] + 1\n",
    "            tr[i, j] = 2\n",
    "        \n",
    "        if m[i, j] > m[i, j-1] + 1:\n",
    "            m[i, j] = m[i, j-1] + 1\n",
    "            tr[i, j] = 1\n",
    "\n",
    "# producing output\n",
    "output.append(str(int(m[len(seq1), len(seq2)])))"
   ]
  },
  {
   "cell_type": "code",
   "execution_count": 305,
   "metadata": {
    "collapsed": false
   },
   "outputs": [
    {
     "name": "stdout",
     "output_type": "stream",
     "text": [
      "0\n",
      "0\n",
      "1\n",
      "0\n",
      "0\n",
      "0\n",
      "0\n",
      "0 0\n",
      "PRET-TY\n",
      "PRTTEIN\n"
     ]
    }
   ],
   "source": [
    "# going back collecting alignment\n",
    "i = len(seq1)\n",
    "j = len(seq2)\n",
    "\n",
    "# Quick lambda function to insert indels.\n",
    "insert_indel = lambda word, i: word[:i] + '-' + word[i:]\n",
    "\n",
    "while (i*j != 0):\n",
    "\n",
    "    if tr[i,j] == 0:\n",
    "        i-=1\n",
    "        j-=1\n",
    "        \n",
    "    if tr[i,j] == 1:\n",
    "        seq1 = insert_indel(seq1, i)\n",
    "        j-=1\n",
    "    \n",
    "    if tr[i,j] == 2:\n",
    "        seq2 = insert_indel(seq2, j)\n",
    "        i-=1\n",
    "\n",
    "# Prepend the necessary preceeding indels to get to (0,0).\n",
    "for repeat in range(i):\n",
    "    seq2 = insert_indel(seq2, 0)\n",
    "for repeat in range(j):\n",
    "    seq1 = insert_indel(seq1, 0)\n",
    "\n",
    "# producing outputs\n",
    "output.append(seq1)\n",
    "output.append(seq2)"
   ]
  },
  {
   "cell_type": "code",
   "execution_count": 276,
   "metadata": {
    "collapsed": false
   },
   "outputs": [],
   "source": [
    "# writing output to file\n",
    "with open('output.txt', 'w') as f:\n",
    "    f.write('\\n'.join(output))"
   ]
  },
  {
   "cell_type": "code",
   "execution_count": null,
   "metadata": {
    "collapsed": true
   },
   "outputs": [],
   "source": []
  },
  {
   "cell_type": "code",
   "execution_count": null,
   "metadata": {
    "collapsed": true
   },
   "outputs": [],
   "source": []
  }
 ],
 "metadata": {
  "kernelspec": {
   "display_name": "Python 2",
   "language": "python",
   "name": "python2"
  },
  "language_info": {
   "codemirror_mode": {
    "name": "ipython",
    "version": 2
   },
   "file_extension": ".py",
   "mimetype": "text/x-python",
   "name": "python",
   "nbconvert_exporter": "python",
   "pygments_lexer": "ipython2",
   "version": "2.7.6"
  }
 },
 "nbformat": 4,
 "nbformat_minor": 0
}
