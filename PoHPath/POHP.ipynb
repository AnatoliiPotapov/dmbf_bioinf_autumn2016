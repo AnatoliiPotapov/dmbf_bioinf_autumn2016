{
 "cells": [
  {
   "cell_type": "code",
   "execution_count": 33,
   "metadata": {
    "collapsed": true
   },
   "outputs": [],
   "source": [
    "import numpy as np"
   ]
  },
  {
   "cell_type": "code",
   "execution_count": 34,
   "metadata": {
    "collapsed": true
   },
   "outputs": [],
   "source": [
    "with open('input.txt') as f:\n",
    "    lines = f.readlines()"
   ]
  },
  {
   "cell_type": "code",
   "execution_count": 36,
   "metadata": {
    "collapsed": false
   },
   "outputs": [
    {
     "name": "stdout",
     "output_type": "stream",
     "text": [
      "3.26233331904e-21\n"
     ]
    }
   ],
   "source": [
    "in_str = lines[0].replace(\"\\n\",\"\")\n",
    "tr_prob = [lines[5].replace(\"\\n\",\"\").split(\"\\t\")[1:3], lines[6].replace(\"\\n\",\"\").split(\"\\t\")[1:3]]\n",
    "# tr_prob = [float(el) for el in tr_prob]\n",
    "\n",
    "class MM(object):\n",
    "    \n",
    "    alph = {}\n",
    "    tr_matrix = []\n",
    "    \n",
    "    def __init__(self, alphabet, tr_prob):\n",
    "        self.alph = alphabet\n",
    "        self.tr_matrix = np.array(tr_prob).astype(np.float)\n",
    "\n",
    "    def compute_transition_probability(self, ch1, ch2):\n",
    "        return self.tr_matrix[self.alph[ch1], self.alph[ch2]]\n",
    "\n",
    "        \n",
    "ProbDistr = MM({'A':0, 'B':1}, tr_prob)\n",
    "ProbDistr.compute_transition_probability('A','B')\n",
    "\n",
    "index = 1\n",
    "res_prob = 0.500\n",
    "while index < len(in_str):\n",
    "    res_prob *= ProbDistr.compute_transition_probability(in_str[index-1], in_str[index])\n",
    "    index += 1\n",
    "    "
   ]
  },
  {
   "cell_type": "code",
   "execution_count": 39,
   "metadata": {
    "collapsed": false
   },
   "outputs": [],
   "source": [
    "# writing output to file\n",
    "with open('output.txt', 'w') as f:\n",
    "    f.write(''.join(str(res_prob)))"
   ]
  },
  {
   "cell_type": "code",
   "execution_count": null,
   "metadata": {
    "collapsed": true
   },
   "outputs": [],
   "source": []
  }
 ],
 "metadata": {
  "kernelspec": {
   "display_name": "Python 2",
   "language": "python",
   "name": "python2"
  },
  "language_info": {
   "codemirror_mode": {
    "name": "ipython",
    "version": 2
   },
   "file_extension": ".py",
   "mimetype": "text/x-python",
   "name": "python",
   "nbconvert_exporter": "python",
   "pygments_lexer": "ipython2",
   "version": "2.7.6"
  }
 },
 "nbformat": 4,
 "nbformat_minor": 0
}
